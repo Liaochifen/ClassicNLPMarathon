{
 "cells": [
  {
   "cell_type": "markdown",
   "metadata": {},
   "source": [
    "### 載入所需的Libraries"
   ]
  },
  {
   "cell_type": "code",
   "execution_count": 81,
   "metadata": {},
   "outputs": [],
   "source": [
    "import re\n",
    "import pandas as pd\n",
    "import numpy as np\n",
    "import matplotlib.pyplot as plt\n",
    "from sklearn.model_selection import train_test_split\n",
    "from sklearn.feature_extraction.text import TfidfVectorizer\n",
    "from sklearn.decomposition import TruncatedSVD\n",
    "from typing import List"
   ]
  },
  {
   "cell_type": "markdown",
   "metadata": {},
   "source": [
    "### 載入資料"
   ]
  },
  {
   "cell_type": "code",
   "execution_count": 108,
   "metadata": {
    "scrolled": true
   },
   "outputs": [
    {
     "data": {
      "text/html": [
       "<div>\n",
       "<style scoped>\n",
       "    .dataframe tbody tr th:only-of-type {\n",
       "        vertical-align: middle;\n",
       "    }\n",
       "\n",
       "    .dataframe tbody tr th {\n",
       "        vertical-align: top;\n",
       "    }\n",
       "\n",
       "    .dataframe thead th {\n",
       "        text-align: right;\n",
       "    }\n",
       "</style>\n",
       "<table border=\"1\" class=\"dataframe\">\n",
       "  <thead>\n",
       "    <tr style=\"text-align: right;\">\n",
       "      <th></th>\n",
       "      <th>label</th>\n",
       "      <th>content</th>\n",
       "    </tr>\n",
       "  </thead>\n",
       "  <tbody>\n",
       "    <tr>\n",
       "      <th>0</th>\n",
       "      <td>ham</td>\n",
       "      <td>Go until jurong point, crazy.. Available only ...</td>\n",
       "    </tr>\n",
       "    <tr>\n",
       "      <th>1</th>\n",
       "      <td>ham</td>\n",
       "      <td>Ok lar... Joking wif u oni...</td>\n",
       "    </tr>\n",
       "    <tr>\n",
       "      <th>2</th>\n",
       "      <td>spam</td>\n",
       "      <td>Free entry in 2 a wkly comp to win FA Cup fina...</td>\n",
       "    </tr>\n",
       "    <tr>\n",
       "      <th>3</th>\n",
       "      <td>ham</td>\n",
       "      <td>U dun say so early hor... U c already then say...</td>\n",
       "    </tr>\n",
       "    <tr>\n",
       "      <th>4</th>\n",
       "      <td>ham</td>\n",
       "      <td>Nah I don't think he goes to usf, he lives aro...</td>\n",
       "    </tr>\n",
       "  </tbody>\n",
       "</table>\n",
       "</div>"
      ],
      "text/plain": [
       "  label                                            content\n",
       "0   ham  Go until jurong point, crazy.. Available only ...\n",
       "1   ham                      Ok lar... Joking wif u oni...\n",
       "2  spam  Free entry in 2 a wkly comp to win FA Cup fina...\n",
       "3   ham  U dun say so early hor... U c already then say...\n",
       "4   ham  Nah I don't think he goes to usf, he lives aro..."
      ]
     },
     "execution_count": 108,
     "metadata": {},
     "output_type": "execute_result"
    }
   ],
   "source": [
    "sms_data = pd.read_csv(\"data/Day17_spam.csv\", encoding='latin', usecols = ['v1','v2'])\n",
    "sms_data.columns = [\"label\", \"content\"]\n",
    "sms_data.head()"
   ]
  },
  {
   "cell_type": "code",
   "execution_count": 109,
   "metadata": {},
   "outputs": [
    {
     "data": {
      "text/html": [
       "<div>\n",
       "<style scoped>\n",
       "    .dataframe tbody tr th:only-of-type {\n",
       "        vertical-align: middle;\n",
       "    }\n",
       "\n",
       "    .dataframe tbody tr th {\n",
       "        vertical-align: top;\n",
       "    }\n",
       "\n",
       "    .dataframe thead th {\n",
       "        text-align: right;\n",
       "    }\n",
       "</style>\n",
       "<table border=\"1\" class=\"dataframe\">\n",
       "  <thead>\n",
       "    <tr style=\"text-align: right;\">\n",
       "      <th></th>\n",
       "      <th>content</th>\n",
       "    </tr>\n",
       "    <tr>\n",
       "      <th>label</th>\n",
       "      <th></th>\n",
       "    </tr>\n",
       "  </thead>\n",
       "  <tbody>\n",
       "    <tr>\n",
       "      <th>ham</th>\n",
       "      <td>4825</td>\n",
       "    </tr>\n",
       "    <tr>\n",
       "      <th>spam</th>\n",
       "      <td>747</td>\n",
       "    </tr>\n",
       "  </tbody>\n",
       "</table>\n",
       "</div>"
      ],
      "text/plain": [
       "       content\n",
       "label         \n",
       "ham       4825\n",
       "spam       747"
      ]
     },
     "execution_count": 109,
     "metadata": {},
     "output_type": "execute_result"
    }
   ],
   "source": [
    "# check how many spams and hams\n",
    "sms_data.groupby(\"label\").count()"
   ]
  },
  {
   "cell_type": "code",
   "execution_count": 110,
   "metadata": {},
   "outputs": [
    {
     "data": {
      "text/html": [
       "<div>\n",
       "<style scoped>\n",
       "    .dataframe tbody tr th:only-of-type {\n",
       "        vertical-align: middle;\n",
       "    }\n",
       "\n",
       "    .dataframe tbody tr th {\n",
       "        vertical-align: top;\n",
       "    }\n",
       "\n",
       "    .dataframe thead th {\n",
       "        text-align: right;\n",
       "    }\n",
       "</style>\n",
       "<table border=\"1\" class=\"dataframe\">\n",
       "  <thead>\n",
       "    <tr style=\"text-align: right;\">\n",
       "      <th></th>\n",
       "      <th>label</th>\n",
       "      <th>content</th>\n",
       "    </tr>\n",
       "  </thead>\n",
       "  <tbody>\n",
       "    <tr>\n",
       "      <th>0</th>\n",
       "      <td>0</td>\n",
       "      <td>Go until jurong point, crazy.. Available only ...</td>\n",
       "    </tr>\n",
       "    <tr>\n",
       "      <th>1</th>\n",
       "      <td>0</td>\n",
       "      <td>Ok lar... Joking wif u oni...</td>\n",
       "    </tr>\n",
       "    <tr>\n",
       "      <th>2</th>\n",
       "      <td>1</td>\n",
       "      <td>Free entry in 2 a wkly comp to win FA Cup fina...</td>\n",
       "    </tr>\n",
       "    <tr>\n",
       "      <th>3</th>\n",
       "      <td>0</td>\n",
       "      <td>U dun say so early hor... U c already then say...</td>\n",
       "    </tr>\n",
       "    <tr>\n",
       "      <th>4</th>\n",
       "      <td>0</td>\n",
       "      <td>Nah I don't think he goes to usf, he lives aro...</td>\n",
       "    </tr>\n",
       "  </tbody>\n",
       "</table>\n",
       "</div>"
      ],
      "text/plain": [
       "   label                                            content\n",
       "0      0  Go until jurong point, crazy.. Available only ...\n",
       "1      0                      Ok lar... Joking wif u oni...\n",
       "2      1  Free entry in 2 a wkly comp to win FA Cup fina...\n",
       "3      0  U dun say so early hor... U c already then say...\n",
       "4      0  Nah I don't think he goes to usf, he lives aro..."
      ]
     },
     "execution_count": 110,
     "metadata": {},
     "output_type": "execute_result"
    }
   ],
   "source": [
    "# change label from string to number\n",
    "# \"ham\" --> 0, \"spam\" --> 1\n",
    "\n",
    "sms_data[\"label\"] = sms_data[\"label\"].replace(\"ham\", 0)\n",
    "sms_data[\"label\"] = sms_data[\"label\"].replace(\"spam\", 1)\n",
    "\n",
    "sms_data.head()"
   ]
  },
  {
   "cell_type": "markdown",
   "metadata": {},
   "source": [
    "### 切分資料\n",
    "將資料依據label比例切分為training data與testing data"
   ]
  },
  {
   "cell_type": "code",
   "execution_count": 111,
   "metadata": {},
   "outputs": [
    {
     "name": "stdout",
     "output_type": "stream",
     "text": [
      "       content\n",
      "label         \n",
      "0         3859\n",
      "1          598\n",
      "       content\n",
      "label         \n",
      "0          966\n",
      "1          149\n"
     ]
    }
   ],
   "source": [
    "sms_train, sms_test = train_test_split(sms_data, test_size=0.2, stratify=sms_data.label)\n",
    "sms_train = sms_train.reset_index(drop=True)\n",
    "sms_test = sms_test.reset_index(drop=True)\n",
    "\n",
    "print(sms_train.groupby(\"label\").count())\n",
    "print(sms_test.groupby(\"label\").count())"
   ]
  },
  {
   "cell_type": "markdown",
   "metadata": {},
   "source": [
    "### 資料預處理\n",
    "* 將所有字詞轉為小寫\n",
    "* 移除所有數字、標點符號"
   ]
  },
  {
   "cell_type": "code",
   "execution_count": 112,
   "metadata": {
    "scrolled": true
   },
   "outputs": [
    {
     "name": "stdout",
     "output_type": "stream",
     "text": [
      "Train:\n",
      "   label                                            content\n",
      "0      0                       sir waiting for your letter \n",
      "1      0  nothing but we jus tot u would ask cos u ba gu...\n",
      "2      0  got it it looks scrumptious daddy wants to eat...\n",
      "3      0  nice talking to you please dont forget my pix ...\n",
      "4      0                 prepare to be pounded every night \n",
      "Test:\n",
      "   label                                            content\n",
      "0      0  okay lor wah like that def they wont let us go...\n",
      "1      0  you do your studies alone without anyones help...\n",
      "2      0  he telling not to tell any one if so treat for...\n",
      "3      0  nope wif my sis lor aft bathing my dog then i ...\n",
      "4      0                                are you in the pub \n"
     ]
    }
   ],
   "source": [
    "def preprocess(df: pd.DataFrame) -> pd.DataFrame:\n",
    "    # make all content to lowercase and remove all punctuations\n",
    "    for i in range(len(df)):\n",
    "        df.loc[i, \"content\"] = re.sub(r\"[\\W\\d]+\", \" \", df.loc[i, \"content\"].lower())\n",
    "    return df\n",
    "\n",
    "processed_train = preprocess(sms_train)\n",
    "processed_test = preprocess(sms_test)\n",
    "\n",
    "print(\"Train:\")\n",
    "print(processed_train.head())\n",
    "print(\"Test:\")\n",
    "print(processed_test.head())"
   ]
  },
  {
   "cell_type": "code",
   "execution_count": 116,
   "metadata": {},
   "outputs": [
    {
     "data": {
      "text/plain": [
       "7765"
      ]
     },
     "execution_count": 116,
     "metadata": {},
     "output_type": "execute_result"
    }
   ],
   "source": [
    "# split data into x_train, y_train, x_test, y_test\n",
    "y_train, x_train = zip(*processed_train.values)\n",
    "y_test, x_test = zip(*processed_test.values)\n",
    "\n",
    "# check numbers of unique word in the corpus\n",
    "len(set(\" \".join(list(x_train + x_test)).split()))"
   ]
  },
  {
   "cell_type": "markdown",
   "metadata": {},
   "source": [
    "### TF-IDF\n",
    "可以發現總共有7765個字詞，這裡使用TF-IDF將來選取最高分的前2000個字詞\n",
    "(若忘記的學員可參考先前TF-IDF課程章節或[此篇教學](https://ithelp.ithome.com.tw/articles/10228815?sc=iThelpR))"
   ]
  },
  {
   "cell_type": "code",
   "execution_count": 117,
   "metadata": {},
   "outputs": [
    {
     "name": "stdout",
     "output_type": "stream",
     "text": [
      "Number of unique word: 2000\n"
     ]
    },
    {
     "data": {
      "text/plain": [
       "(array([[3306, 5343, 6500, ..., 6138, 6137, 6135],\n",
       "        [3094, 6851, 6607, ..., 6142, 6141, 6140],\n",
       "        [5121, 3414, 1374, ..., 6139, 6138, 6137],\n",
       "        ...,\n",
       "        [5616, 1233, 2536, ..., 6145, 6144, 6143],\n",
       "        [4407, 1195, 3278, ..., 6140, 6139, 6138],\n",
       "        [4293, 5746, 3835, ..., 6138, 6136, 6161]]),\n",
       " array([[6004, 1442, 6492, ..., 6142, 6141, 6140],\n",
       "        [5703,  179, 6700, ..., 6140, 6139, 6138],\n",
       "        [2640, 5918, 6198, ..., 6141, 6140, 6139],\n",
       "        ...,\n",
       "        [1580, 5721, 2421, ..., 6142, 6141, 6140],\n",
       "        [ 883, 2738, 1162, ..., 6145, 6144, 6143],\n",
       "        [5151, 3052, 3328, ..., 6136, 6161, 6109]]))"
      ]
     },
     "execution_count": 117,
     "metadata": {},
     "output_type": "execute_result"
    }
   ],
   "source": [
    "vectorizer = TfidfVectorizer(max_features=2000)\n",
    "\n",
    "tf_idf_train = vectorizer.fit_transform(x_train)\n",
    "tf_idf_test = vectorizer.transform(x_test)\n",
    "\n",
    "print(f\"Number of unique word: {len(vectorizer.vocabulary_)}\")\n",
    "(tfidf_train, tfidf_test)"
   ]
  },
  {
   "cell_type": "markdown",
   "metadata": {},
   "source": [
    "### 建立共現矩陣"
   ]
  },
  {
   "cell_type": "code",
   "execution_count": 118,
   "metadata": {},
   "outputs": [
    {
     "name": "stdout",
     "output_type": "stream",
     "text": [
      "finishing 501/4457\n",
      "finishing 1001/4457\n",
      "finishing 1501/4457\n",
      "finishing 2001/4457\n",
      "finishing 2501/4457\n",
      "finishing 3001/4457\n",
      "finishing 3501/4457\n",
      "finishing 4001/4457\n",
      "Done\n"
     ]
    },
    {
     "data": {
      "text/plain": [
       "array([[1., 0., 0., ..., 0., 0., 0.],\n",
       "       [0., 1., 0., ..., 0., 0., 0.],\n",
       "       [0., 0., 1., ..., 0., 0., 0.],\n",
       "       ...,\n",
       "       [0., 0., 0., ..., 1., 0., 0.],\n",
       "       [0., 0., 0., ..., 0., 1., 0.],\n",
       "       [0., 0., 0., ..., 0., 0., 1.]])"
      ]
     },
     "execution_count": 118,
     "metadata": {},
     "output_type": "execute_result"
    }
   ],
   "source": [
    "def create_co_matrix(corpus: List[str], vocab_list: List[str], word2idx: dict,\n",
    "                     window_size: int=1, use_weighting: bool=False, verbose: bool=False) -> np.ndarray:\n",
    "    '''Function to create co-occurrence matrix\n",
    "    '''\n",
    "    # initialize co-occurrence matrix\n",
    "    co_matrix = np.zeros((len(vocab_list), len(vocab_list)))\n",
    "    \n",
    "    for idx, sms in enumerate(corpus):\n",
    "        sms_ids = [word2idx[word] for word in sms.split() if word in word2idx]\n",
    "        for center_idx, center_word_id in enumerate(sms_ids):\n",
    "            left_idx = center_idx - window_size if center_idx - window_size >= 0 else 0\n",
    "            right_idx = center_idx + window_size if center_idx + window_size < len(sms_ids) \\\n",
    "                else len(sms_ids)-1\n",
    "            \n",
    "            for neighbor_idx in range(left_idx, right_idx):\n",
    "                if neighbor_idx == center_idx:\n",
    "                    continue\n",
    "                else:\n",
    "                    if use_weighting:\n",
    "                        distance = abs(center_idx - neighbor_idx)\n",
    "                        co_matrix[center_word_id, sms_ids[neighbor_idx]] += 1./distance\n",
    "                    else:\n",
    "                        co_matrix[center_word_id, sms_ids[neighbor_idx]] += 1.\n",
    "        \n",
    "        if verbose:\n",
    "            if idx != 0 and idx%500 == 0:\n",
    "                    print(f\"finishing {idx+1}/{len(corpus)}\")\n",
    "    print(\"Done\")\n",
    "    if use_weighting:\n",
    "        # if use weighting, then we set the co-occurrence with the word itself to 1.0\n",
    "        np.fill_diagonal(co_matrix, 1.0)\n",
    "        \n",
    "    return co_matrix\n",
    "\n",
    "co_matrix = create_co_matrix(x_train, vectorizer.get_feature_names(), vectorizer.vocabulary_,\n",
    "                            window_size=3, use_weighting=True, verbose=True)\n",
    "\n",
    "co_matrix"
   ]
  },
  {
   "cell_type": "markdown",
   "metadata": {},
   "source": [
    "### 建立PPMI矩陣\n",
    "$$\n",
    "\\begin{aligned}\n",
    "&PMI(x,y) = log_2\\frac{P(x,y)}{P(x)P(y)} = log_2\\frac{C(x,y)N}{C(x)C(y)} \\\\\n",
    "&PPMI(x,y) = max(0,PMI(x,y))\n",
    "\\end{aligned}\n",
    "$$"
   ]
  },
  {
   "cell_type": "code",
   "execution_count": 119,
   "metadata": {
    "scrolled": true
   },
   "outputs": [
    {
     "name": "stderr",
     "output_type": "stream",
     "text": [
      "<ipython-input-119-63ad7866f387>:13: RuntimeWarning: divide by zero encountered in log2\n",
      "  pmi = np.log2((co_matrix[i, j] * N) / (S[i]*S[j] + eps) )\n"
     ]
    },
    {
     "data": {
      "text/plain": [
       "array([[ 9.37117564,  0.        ,  0.        , ...,  0.        ,\n",
       "         0.        ,  0.        ],\n",
       "       [ 0.        , 11.40236935,  0.        , ...,  0.        ,\n",
       "         0.        ,  0.        ],\n",
       "       [ 0.        ,  0.        , 17.27956825, ...,  0.        ,\n",
       "         0.        ,  0.        ],\n",
       "       ...,\n",
       "       [ 0.        ,  0.        ,  0.        , ...,  3.83736989,\n",
       "         0.        ,  0.        ],\n",
       "       [ 0.        ,  0.        ,  0.        , ...,  0.        ,\n",
       "         8.47212389,  0.        ],\n",
       "       [ 0.        ,  0.        ,  0.        , ...,  0.        ,\n",
       "         0.        ,  9.73438926]])"
      ]
     },
     "execution_count": 119,
     "metadata": {},
     "output_type": "execute_result"
    }
   ],
   "source": [
    "#定義正向點間互資訊\n",
    "\n",
    "def ppmi(co_matrix: np.ndarray, eps: float=1e-8, verbose: bool=False):\n",
    "    M = np.zeros((co_matrix.shape[0], co_matrix.shape[1]))\n",
    "    N = np.sum(co_matrix)\n",
    "    S = np.sum(co_matrix, axis=0)\n",
    "    \n",
    "    cnt = 0\n",
    "    total = co_matrix.shape[0]*co_matrix.shape[1]\n",
    "    \n",
    "    for i in range(co_matrix.shape[0]):\n",
    "        for j in range(co_matrix.shape[1]):\n",
    "            pmi = np.log2((co_matrix[i, j] * N) / (S[i]*S[j] + eps) )\n",
    "            M[i, j] = max(0, pmi)\n",
    "            \n",
    "            if verbose:\n",
    "                cnt += 1\n",
    "                if cnt % 10000000 == 0 or cnt == total:\n",
    "                    print(f\"{cnt}/{total} Done\")\n",
    "    \n",
    "    return M\n",
    "\n",
    "ppmi_matrix = ppmi(co_matrix, verbose=False)\n",
    "ppmi_matrix"
   ]
  },
  {
   "cell_type": "markdown",
   "metadata": {},
   "source": [
    "### 使用SVD降維\n",
    "利用sklearn中的TruncatedSVD對co-occurrence matrix進行降維，並利用variance來找出最適合的維度\n",
    "[參考文獻](https://medium.com/swlh/truncated-singular-value-decomposition-svd-using-amazon-food-reviews-891d97af5d8d)\n",
    "\n",
    "(讀者可以嘗試使用SVD對PPMI進行降維)"
   ]
  },
  {
   "cell_type": "code",
   "execution_count": 122,
   "metadata": {
    "scrolled": false
   },
   "outputs": [
    {
     "name": "stdout",
     "output_type": "stream",
     "text": [
      "Number of components = 10 and explained variance = 0.78353829428598\n",
      "Number of components = 20 and explained variance = 0.8449747094315281\n",
      "Number of components = 30 and explained variance = 0.8754270927508175\n",
      "Number of components = 40 and explained variance = 0.8953889574015261\n",
      "Number of components = 50 and explained variance = 0.9102161045663425\n",
      "Number of components = 60 and explained variance = 0.9216775084826673\n",
      "Number of components = 70 and explained variance = 0.9308289912684313\n",
      "Number of components = 80 and explained variance = 0.9383786347290012\n",
      "Number of components = 90 and explained variance = 0.9446373478795685\n",
      "Number of components = 100 and explained variance = 0.9497704867400043\n",
      "Number of components = 110 and explained variance = 0.9541247775689832\n",
      "Number of components = 120 and explained variance = 0.9578767641758137\n",
      "Number of components = 130 and explained variance = 0.9611624556939208\n",
      "Number of components = 140 and explained variance = 0.963955295581456\n",
      "Number of components = 150 and explained variance = 0.9663984662734443\n",
      "Number of components = 160 and explained variance = 0.9685718058826197\n",
      "Number of components = 170 and explained variance = 0.9705251716322667\n",
      "Number of components = 180 and explained variance = 0.9722932309616696\n",
      "Number of components = 190 and explained variance = 0.9738938133287518\n",
      "Number of components = 200 and explained variance = 0.9753658476750106\n",
      "Number of components = 210 and explained variance = 0.9767106706026282\n",
      "Number of components = 220 and explained variance = 0.9779446100193433\n",
      "Number of components = 230 and explained variance = 0.9790924153935484\n",
      "Number of components = 240 and explained variance = 0.9801571415835136\n",
      "Number of components = 250 and explained variance = 0.9811447155232802\n",
      "Number of components = 260 and explained variance = 0.9820714100476599\n",
      "Number of components = 270 and explained variance = 0.9829335888380324\n",
      "Number of components = 280 and explained variance = 0.983743041349469\n",
      "Number of components = 290 and explained variance = 0.9844972784531134\n",
      "Number of components = 300 and explained variance = 0.9851993914554166\n",
      "Number of components = 310 and explained variance = 0.9858642236049576\n",
      "Number of components = 320 and explained variance = 0.986484058266425\n",
      "Number of components = 330 and explained variance = 0.987065488677545\n",
      "Number of components = 340 and explained variance = 0.9876171419055152\n",
      "Number of components = 350 and explained variance = 0.9881404749298301\n"
     ]
    },
    {
     "data": {
      "image/png": "[encoded data removed]",
      "text/plain": [
       "<Figure size 432x288 with 1 Axes>"
      ]
     },
     "metadata": {
      "needs_background": "light"
     },
     "output_type": "display_data"
    }
   ],
   "source": [
    "# Program to find the optimal number of components for Truncated SVD\n",
    "n_comp = range(10,360,10) # list containing different values of components\n",
    "variance_sum = [] # explained variance ratio for each component of Truncated SVD\n",
    "\n",
    "for dim in n_comp:\n",
    "    svd = TruncatedSVD(n_components=dim, n_iter=7, random_state=42)\n",
    "    svd.fit(co_matrix)\n",
    "    var_sum = svd.explained_variance_ratio_.sum()\n",
    "    variance_sum.append(var_sum)\n",
    "    print(f\"Number of components = {dim} and explained variance = {var_sum}\")\n",
    "    \n",
    "plt.plot(n_comp, variance_sum)\n",
    "plt.xlabel('Number of components')\n",
    "plt.ylabel(\"Explained Variance\")\n",
    "plt.title(\"Plot of Number of components v/s explained variance\")\n",
    "plt.show()"
   ]
  },
  {
   "cell_type": "code",
   "execution_count": 123,
   "metadata": {
    "scrolled": false
   },
   "outputs": [
    {
     "name": "stdout",
     "output_type": "stream",
     "text": [
      "Number of components = 10 and explained variance = 0.05603794140449632\n",
      "Number of components = 20 and explained variance = 0.08828288887294143\n",
      "Number of components = 30 and explained variance = 0.11647694404650238\n",
      "Number of components = 40 and explained variance = 0.1427813739348782\n",
      "Number of components = 50 and explained variance = 0.16735388947591703\n",
      "Number of components = 60 and explained variance = 0.1907532262710286\n",
      "Number of components = 70 and explained variance = 0.21278149063719046\n",
      "Number of components = 80 and explained variance = 0.23381389235123898\n",
      "Number of components = 90 and explained variance = 0.2541030385556891\n",
      "Number of components = 100 and explained variance = 0.2734014050796899\n",
      "Number of components = 110 and explained variance = 0.291803535961016\n",
      "Number of components = 120 and explained variance = 0.3096531279318038\n",
      "Number of components = 130 and explained variance = 0.3267804848637397\n",
      "Number of components = 140 and explained variance = 0.34318028266921363\n"
     ]
    },
    {
     "data": {
      "image/png": "[encoded data removed]",
      "text/plain": [
       "<Figure size 432x288 with 1 Axes>"
      ]
     },
     "metadata": {
      "needs_background": "light"
     },
     "output_type": "display_data"
    }
   ],
   "source": [
    "# Program to find the optimal number of components for Truncated SVD\n",
    "n_comp = range(10,150,10) # list containing different values of components\n",
    "variance_sum = [] # explained variance ratio for each component of Truncated SVD\n",
    "\n",
    "for dim in n_comp:\n",
    "    svd = TruncatedSVD(n_components=dim, n_iter=7, random_state=42)\n",
    "    svd.fit(ppmi_matrix)\n",
    "    var_sum = svd.explained_variance_ratio_.sum()\n",
    "    variance_sum.append(var_sum)\n",
    "    print(f\"Number of components = {dim} and explained variance = {var_sum}\")\n",
    "    \n",
    "plt.plot(n_comp, variance_sum)\n",
    "plt.xlabel('Number of components')\n",
    "plt.ylabel(\"Explained Variance\")\n",
    "plt.title(\"Plot of Number of components v/s explained variance\")\n",
    "plt.show()"
   ]
  },
  {
   "cell_type": "code",
   "execution_count": 127,
   "metadata": {},
   "outputs": [
    {
     "data": {
      "text/plain": [
       "array([[ 1.97018492, -1.12473163, -0.14851761, ...,  0.18122662,\n",
       "        -0.11810849, -0.11992233],\n",
       "       [ 1.54963048, -0.33014941, -0.80696007, ..., -0.02232469,\n",
       "        -0.025253  ,  0.05717796],\n",
       "       [ 1.03211177, -0.16768466,  0.12500815, ...,  0.0223668 ,\n",
       "         0.06108508, -0.00991561],\n",
       "       ...,\n",
       "       [ 4.0198057 ,  0.80032363, -0.03128045, ...,  0.48237288,\n",
       "         0.21797823, -0.19636752],\n",
       "       [ 1.25873446, -0.69893939,  0.01261673, ..., -0.01036661,\n",
       "         0.08947656,  0.05213968],\n",
       "       [ 1.20301918,  0.2262232 , -0.92665543, ...,  0.09865896,\n",
       "         0.07946129, -0.07534688]])"
      ]
     },
     "execution_count": 127,
     "metadata": {},
     "output_type": "execute_result"
    }
   ],
   "source": [
    "# choose 350 as final dimension to reduce to \n",
    "# 利用上述找到的最適合dimension來對co-occurrence matrix進行降維\n",
    "svd = TruncatedSVD(n_components=350)\n",
    "svd.fit(co_matrix)\n",
    "re_co_matrix = svd.transform(co_matrix)\n",
    "re_co_matrix"
   ]
  },
  {
   "cell_type": "markdown",
   "metadata": {},
   "source": [
    "### 使用KNN模型進行分類\n",
    "在進行分類之前，先利用簡單的詞向量平均來計算文本向量\n",
    "\n",
    "[參考文獻](https://medium.com/ai-academy-taiwan/nlp-%E4%B8%8D%E5%90%8C%E8%A9%9E%E5%90%91%E9%87%8F%E5%9C%A8%E6%96%87%E6%9C%AC%E5%88%86%E9%A1%9E%E4%B8%8A%E7%9A%84%E8%A1%A8%E7%8F%BE%E8%88%87%E5%AF%A6%E4%BD%9C-e72a2daecfc)"
   ]
  },
  {
   "cell_type": "code",
   "execution_count": 125,
   "metadata": {
    "scrolled": true
   },
   "outputs": [
    {
     "name": "stdout",
     "output_type": "stream",
     "text": [
      "document 365 doesn't contain word in vocab_list\n",
      "audrie lousy autocorrect\n",
      "\n",
      "\n",
      "document 1010 doesn't contain word in vocab_list\n",
      " \n",
      "\n",
      "\n",
      "document 1182 doesn't contain word in vocab_list\n",
      "erutupalam thandiyachu\n",
      "\n",
      "\n",
      "document 3181 doesn't contain word in vocab_list\n",
      "hanks lotsly \n",
      "\n",
      "\n",
      "document 3610 doesn't contain word in vocab_list\n",
      "u \n",
      "\n",
      "\n",
      "document 3715 doesn't contain word in vocab_list\n",
      " \n",
      "\n",
      "\n",
      "document 3965 doesn't contain word in vocab_list\n",
      "g w r\n",
      "\n",
      "\n",
      "document 3995 doesn't contain word in vocab_list\n",
      "raviyog peripherals bhayandar east\n",
      "\n",
      "\n",
      "document 4012 doesn't contain word in vocab_list\n",
      "ultimately tor motive tui achieve korli \n",
      "\n",
      "\n",
      "document 4197 doesn't contain word in vocab_list\n",
      "k k congratulation \n",
      "\n",
      "\n",
      "document 4214 doesn't contain word in vocab_list\n",
      " tf p\n",
      "\n",
      "\n",
      "==================================================\n",
      "document 70 doesn't contain word in vocab_list\n",
      " \n",
      "\n",
      "\n",
      "document 303 doesn't contain word in vocab_list\n",
      "garbage bags eggs jam bread hannaford wheat chex\n",
      "\n",
      "\n",
      "document 332 doesn't contain word in vocab_list\n",
      "east coast\n",
      "\n",
      "\n",
      "document 793 doesn't contain word in vocab_list\n",
      "ringtoneking \n",
      "\n",
      "\n",
      "document 809 doesn't contain word in vocab_list\n",
      "beerage \n",
      "\n",
      "\n"
     ]
    }
   ],
   "source": [
    "# get doc vector via take mean of all word vectors inside the corresponding document\n",
    "\n",
    "def make_doc_vectors(corpus: List[str], word2idx: dict, vocab_list: List) -> List[np.ndarray]:\n",
    "    \n",
    "    # vectorizing data \n",
    "    # and make document vector by take mean to all word vector\n",
    "    doc_vec = []\n",
    "    empty_doc_list = []\n",
    "    for i, sms_msg in enumerate(corpus):\n",
    "        sms_msg = [word2idx[word] for word in sms_msg.split() if word in vocab_list] #tokenize\n",
    "        if len(sms_msg) > 0:\n",
    "            sms_msg = np.array([re_co_matrix[ids] for ids in sms_msg]) #vectorize\n",
    "            doc_vec.append(sms_msg.mean(axis=0))\n",
    "        else:\n",
    "            empty_doc_list.append(i)\n",
    "            print(f\"document {i} doesn't contain word in vocab_list\")\n",
    "            print(corpus[i])\n",
    "            print(\"\\n\")\n",
    "        \n",
    "    return np.vstack(doc_vec), empty_doc_list\n",
    "\n",
    "word2idx = vectorizer.vocabulary_\n",
    "vocab_list = vectorizer.get_feature_names()\n",
    "\n",
    "doc_vec_train, missing_train_list = make_doc_vectors(x_train, word2idx, vocab_list)\n",
    "print(\"=\"*50)\n",
    "doc_vec_test, missing_test_list = make_doc_vectors(x_test, word2idx, vocab_list)"
   ]
  },
  {
   "cell_type": "code",
   "execution_count": 128,
   "metadata": {},
   "outputs": [],
   "source": [
    "from sklearn.neighbors import KNeighborsClassifier\n",
    "\n",
    "# training\n",
    "y_train_filter = np.delete(np.array(y_train), missing_train_list)\n",
    "neigh = KNeighborsClassifier(n_neighbors=3)\n",
    "neigh.fit(doc_vec_train, y_train_filter)\n",
    "train_pred = neigh.predict(doc_vec_train)\n",
    "\n",
    "# testing\n",
    "y_test_filter = np.delete(np.array(y_test), missing_test_list)\n",
    "test_pred = neigh.predict(doc_vec_test)"
   ]
  },
  {
   "cell_type": "code",
   "execution_count": 129,
   "metadata": {},
   "outputs": [
    {
     "name": "stdout",
     "output_type": "stream",
     "text": [
      "train acc: 0.975033738191633\n",
      "train acc: 0.9657657657657658\n"
     ]
    }
   ],
   "source": [
    "print(f\"train acc: {np.sum(train_pred == y_train_filter) / len(y_train_filter)}\")\n",
    "print(f\"train acc: {np.sum(test_pred == y_test_filter) / len(y_test_filter)}\")"
   ]
  }
 ],
 "metadata": {
  "kernelspec": {
   "display_name": "Python 3",
   "language": "python",
   "name": "python3"
  },
  "language_info": {
   "codemirror_mode": {
    "name": "ipython",
    "version": 3
   },
   "file_extension": ".py",
   "mimetype": "text/x-python",
   "name": "python",
   "nbconvert_exporter": "python",
   "pygments_lexer": "ipython3",
   "version": "3.8.3"
  }
 },
 "nbformat": 4,
 "nbformat_minor": 2
}
